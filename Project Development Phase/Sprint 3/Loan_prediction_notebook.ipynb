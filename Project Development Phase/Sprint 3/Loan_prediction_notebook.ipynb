{
 "cells": [
  {
   "cell_type": "markdown",
   "id": "e79bd83e-d6eb-4663-9b23-1e38de008375",
   "metadata": {},
   "source": [
    "## Importing The Packages"
   ]
  },
  {
   "cell_type": "code",
   "execution_count": null,
   "id": "28936532-7078-4037-8cbe-075e274ade6e",
   "metadata": {},
   "outputs": [],
   "source": [
    "import numpy as np \n",
    "import pandas as pd\n",
    "\n",
    "import warnings\n",
    "warnings.filterwarnings('ignore')"
   ]
  },
  {
   "cell_type": "markdown",
   "id": "e28b79ac-a4a8-43c6-a896-a64952f9a135",
   "metadata": {},
   "source": [
    "## Load The dataset"
   ]
  },
  {
   "cell_type": "code",
   "execution_count": null,
   "id": "77cf8190-e55c-4f0e-80cb-04bec6c2cadb",
   "metadata": {},
   "outputs": [],
   "source": [
    "df=pd.read_csv(\"loan_prediction.csv\")\n",
    "df"
   ]
  },
  {
   "cell_type": "code",
   "execution_count": null,
   "id": "6970194d-59fe-4663-a339-be3b099bfba6",
   "metadata": {},
   "outputs": [],
   "source": [
    "df.shape"
   ]
  },
  {
   "cell_type": "markdown",
   "id": "9f82628b-13d1-4056-b381-833728e25a3d",
   "metadata": {},
   "source": [
    "## Handle The Missing values"
   ]
  },
  {
   "cell_type": "code",
   "execution_count": null,
   "id": "5dc9c689-44fe-448e-9f70-44ee0f9031bf",
   "metadata": {},
   "outputs": [],
   "source": [
    "#checking the null values\n",
    "df.isnull().sum()"
   ]
  },
  {
   "cell_type": "markdown",
   "id": "ef06afd5-05b1-492a-9236-8cb39147a4c1",
   "metadata": {},
   "source": [
    "## Treating The Null Value"
   ]
  },
  {
   "cell_type": "code",
   "execution_count": null,
   "id": "f9a02c21-d984-4c1b-8998-5393bcf976b2",
   "metadata": {},
   "outputs": [],
   "source": [
    "# We will fill the missing values in numeric data type using the mean value of that particular column and categorical data type using the most repeated value"
   ]
  },
  {
   "cell_type": "code",
   "execution_count": null,
   "id": "ba0d3151-ceb7-4731-bdbf-cc8e9299635b",
   "metadata": {},
   "outputs": [],
   "source": [
    "numerical_features = df.select_dtypes(include = [np.number]).columns\n",
    "categorical_features = df.select_dtypes(include = [np.object]).columns"
   ]
  },
  {
   "cell_type": "code",
   "execution_count": null,
   "id": "b526083f-0b97-4b64-b27b-f2afff7a7301",
   "metadata": {},
   "outputs": [],
   "source": [
    "numerical_features"
   ]
  },
  {
   "cell_type": "code",
   "execution_count": null,
   "id": "009dbe71-53c7-404a-aebd-69425bdc3eb7",
   "metadata": {},
   "outputs": [],
   "source": [
    "categorical_features"
   ]
  },
  {
   "cell_type": "code",
   "execution_count": null,
   "id": "22580a3e-bd23-4ba6-8f1a-a56d32a3ae05",
   "metadata": {},
   "outputs": [],
   "source": [
    "df['Gender'] = df['Gender'].fillna(df['Gender'].mode()[0])\n",
    "df['Married'] = df['Married'].fillna(df['Married'].mode()[0])\n",
    "#replace + with non value \n",
    "df['Dependents'] = df['Dependents'].str.replace('+','')\n",
    "df['Dependents'] = df['Dependents'].fillna(df['Dependents'].mode()[0])\n",
    "df['LoanAmount'] = df['LoanAmount'].fillna(df['LoanAmount'].mode()[0])\n",
    "df['Self_Employed'] = df['Self_Employed'].fillna(df['Self_Employed'].mode()[0])\n",
    "df['Loan_Amount_Term'] = df['Loan_Amount_Term'].fillna(df['Loan_Amount_Term'].mode()[0])\n",
    "df['Credit_History'] = df['Credit_History'].fillna(df['Credit_History'].mode()[0])"
   ]
  },
  {
   "cell_type": "code",
   "execution_count": null,
   "id": "275e5c10-54d8-470a-b41d-f33863b14d7a",
   "metadata": {},
   "outputs": [],
   "source": [
    "#checking the null values now\n",
    "df.isnull().sum()"
   ]
  },
  {
   "cell_type": "code",
   "execution_count": null,
   "id": "9601eb03-3dac-40a9-a233-c062fdef8359",
   "metadata": {},
   "outputs": [],
   "source": [
    "# Now the null value is retreated"
   ]
  },
  {
   "cell_type": "markdown",
   "id": "1a82c863-ab57-4fa8-9524-690ea56b58b6",
   "metadata": {},
   "source": [
    "## Handling Categorical Values"
   ]
  },
  {
   "cell_type": "code",
   "execution_count": null,
   "id": "0e940361-08ce-477e-af36-b5690d59d7ad",
   "metadata": {},
   "outputs": [],
   "source": [
    "df.select_dtypes(include='object').columns"
   ]
  },
  {
   "cell_type": "code",
   "execution_count": null,
   "id": "82b95c4a-d88d-4447-9888-4b52e1cc5fca",
   "metadata": {},
   "outputs": [],
   "source": [
    "df['Gender'].unique()"
   ]
  },
  {
   "cell_type": "code",
   "execution_count": null,
   "id": "004b8e5a-5065-4991-8051-e90d384fc9f0",
   "metadata": {},
   "outputs": [],
   "source": [
    "df['Gender'].replace({'Male':1,'Female':0},inplace=True)"
   ]
  },
  {
   "cell_type": "code",
   "execution_count": null,
   "id": "fde0955a-6c91-4e1f-8fa3-257633a5c70f",
   "metadata": {},
   "outputs": [],
   "source": [
    "df['Married'].unique()"
   ]
  },
  {
   "cell_type": "code",
   "execution_count": null,
   "id": "df599b37-e719-4c00-a975-61a3dd2ec9be",
   "metadata": {},
   "outputs": [],
   "source": [
    "df['Married'].replace({'Yes':1,'No':0},inplace=True)"
   ]
  },
  {
   "cell_type": "code",
   "execution_count": null,
   "id": "ad30c469-7921-43e4-8270-965f7ac2d4cd",
   "metadata": {},
   "outputs": [],
   "source": [
    "df['Dependents'].unique()"
   ]
  },
  {
   "cell_type": "code",
   "execution_count": null,
   "id": "99bfca38-fd78-4697-bb34-7c5b2c32e1ef",
   "metadata": {},
   "outputs": [],
   "source": [
    "df['Dependents'].replace({'0':0,'1':1,'2':2,'3':3},inplace=True)"
   ]
  },
  {
   "cell_type": "code",
   "execution_count": null,
   "id": "cc4f6552-0c5c-4ae9-bbbd-a80efcb26d90",
   "metadata": {},
   "outputs": [],
   "source": [
    "df['Self_Employed'].unique()"
   ]
  },
  {
   "cell_type": "code",
   "execution_count": null,
   "id": "9236ad52-8961-45c2-b381-3d96231e85db",
   "metadata": {},
   "outputs": [],
   "source": [
    "df['Self_Employed'].replace({'Yes':1,'No':0},inplace=True)"
   ]
  },
  {
   "cell_type": "code",
   "execution_count": null,
   "id": "3b301a76-7455-490b-b40c-5b7bcab8cf8e",
   "metadata": {},
   "outputs": [],
   "source": [
    "df['Property_Area'].unique()"
   ]
  },
  {
   "cell_type": "code",
   "execution_count": null,
   "id": "218edcce-0de8-415d-9599-6bc7ae81606e",
   "metadata": {},
   "outputs": [],
   "source": [
    "df['Property_Area'].replace({'Urban':2,'Rural':0,'Semiurban':1},inplace=True)"
   ]
  },
  {
   "cell_type": "code",
   "execution_count": null,
   "id": "21298f74-600e-45fe-9522-f0ffac0a13fd",
   "metadata": {},
   "outputs": [],
   "source": [
    "df['Loan_Status'].unique()"
   ]
  },
  {
   "cell_type": "code",
   "execution_count": null,
   "id": "cf2da92e-3aed-41c7-a01b-daef2c69f55c",
   "metadata": {},
   "outputs": [],
   "source": [
    "df['Loan_Status'].replace({'Y':1,'N':0},inplace=True)"
   ]
  },
  {
   "cell_type": "code",
   "execution_count": null,
   "id": "b5f9f652-d14f-43cb-aaaf-a81f2f0a9f88",
   "metadata": {},
   "outputs": [],
   "source": [
    "df['Education'].unique()"
   ]
  },
  {
   "cell_type": "code",
   "execution_count": null,
   "id": "c40d2240-ca48-4832-acb9-9ebb81214daa",
   "metadata": {},
   "outputs": [],
   "source": [
    "df['Education'].replace({'Graduate':1,'Not Graduate':0},inplace=True)"
   ]
  },
  {
   "cell_type": "code",
   "execution_count": null,
   "id": "354ca605-52f2-4fa8-9c98-40dee6028339",
   "metadata": {},
   "outputs": [],
   "source": [
    "df['CoapplicantIncome']=df['CoapplicantIncome'].astype(\"int64\")\n",
    "df['LoanAmount']=df['LoanAmount'].astype(\"int64\")\n",
    "df['Loan_Amount_Term']=df['Loan_Amount_Term'].astype(\"int64\")\n",
    "df['Credit_History']=df['Credit_History'].astype(\"int64\")"
   ]
  },
  {
   "cell_type": "code",
   "execution_count": null,
   "id": "08344466-97b1-47f8-b3cf-32f671ddd941",
   "metadata": {},
   "outputs": [],
   "source": [
    "# dummy columns are created for the categories in Loan_ID\n",
    "from sklearn.preprocessing import LabelEncoder\n",
    "le = LabelEncoder()\n",
    "df['Loan_ID'] = le.fit_transform(df.Loan_ID)"
   ]
  },
  {
   "cell_type": "code",
   "execution_count": null,
   "id": "27c610c2-3d0f-4eee-9906-88cf71faa523",
   "metadata": {},
   "outputs": [],
   "source": [
    "df.head()"
   ]
  },
  {
   "cell_type": "code",
   "execution_count": null,
   "id": "65e10857-aa76-4627-9542-0fde545ec281",
   "metadata": {},
   "outputs": [],
   "source": [
    "df.drop(columns = 'Loan_ID', inplace=True)\n",
    "df.head()"
   ]
  },
  {
   "cell_type": "markdown",
   "id": "b9a8317c-f5e7-4f97-a5f6-45698576f31c",
   "metadata": {},
   "source": [
    "## Balancing The Dataset"
   ]
  },
  {
   "cell_type": "code",
   "execution_count": null,
   "id": "e0bf933a-3be9-45b3-99f5-dab6121c313a",
   "metadata": {},
   "outputs": [],
   "source": [
    "#from imblearn.combine import SMOTETomek"
   ]
  },
  {
   "cell_type": "code",
   "execution_count": null,
   "id": "3c991a62-ddfa-4751-b45d-72f1d2d9a6be",
   "metadata": {},
   "outputs": [],
   "source": [
    "#smote = SMOTETomek(0.90)"
   ]
  },
  {
   "cell_type": "code",
   "execution_count": null,
   "id": "c6942a68-2d45-4db8-98dc-3ef5bc1ea878",
   "metadata": {},
   "outputs": [],
   "source": [
    "#dividing the dataset into dependent and independent y and x respectively\n",
    "\n",
    "y = df['Loan_Status']\n",
    "x = df.drop(columns=['Loan_Status'],axis=1)"
   ]
  },
  {
   "cell_type": "code",
   "execution_count": null,
   "id": "ec64e560-2320-45e7-808d-783a70b1f21e",
   "metadata": {},
   "outputs": [],
   "source": [
    "#creating the new x and y for balance data\n",
    "#x_bal,y_bal = smote.fit_resample(x,y)"
   ]
  },
  {
   "cell_type": "code",
   "execution_count": null,
   "id": "a0bd2e01-54fd-45af-acc3-6dfb07548c5d",
   "metadata": {},
   "outputs": [],
   "source": [
    "#printing the value before and after balancing \n",
    "#print(y.value_counts())\n",
    "#print(y_bal.value_counts())"
   ]
  },
  {
   "cell_type": "markdown",
   "id": "307cbf16-6961-4bea-ba5b-997f4d39eddd",
   "metadata": {},
   "source": [
    "## Scaling The Data"
   ]
  },
  {
   "cell_type": "code",
   "execution_count": null,
   "id": "a9ca34e2-7c19-4241-99c5-09aa35de4ad1",
   "metadata": {},
   "outputs": [],
   "source": [
    "from sklearn.preprocessing import StandardScaler"
   ]
  },
  {
   "cell_type": "code",
   "execution_count": null,
   "id": "98cc112e-2d11-4780-95e0-a0c60c182028",
   "metadata": {},
   "outputs": [],
   "source": [
    "sc = StandardScaler()\n",
    "x= sc.fit_transform(x)"
   ]
  },
  {
   "cell_type": "code",
   "execution_count": null,
   "id": "201e3da8-c4c0-4fc8-9938-ff4360dce34d",
   "metadata": {},
   "outputs": [],
   "source": [
    "x = pd.DataFrame(x)"
   ]
  },
  {
   "cell_type": "code",
   "execution_count": null,
   "id": "b3c652ec-8b46-4672-83d2-53edcfe97727",
   "metadata": {},
   "outputs": [],
   "source": [
    "x.head()"
   ]
  },
  {
   "cell_type": "code",
   "execution_count": null,
   "id": "ad5cb3c7-b085-4ad0-8629-34f868981504",
   "metadata": {},
   "outputs": [],
   "source": [
    "# We will perform scaling only on the input values"
   ]
  },
  {
   "cell_type": "markdown",
   "id": "f20ad115-f958-4535-bcef-d487f6ab160d",
   "metadata": {},
   "source": [
    "## Splitting Data Into Train And Test"
   ]
  },
  {
   "cell_type": "code",
   "execution_count": null,
   "id": "94a4d742-e107-4ba3-8305-3df9d7b1cabd",
   "metadata": {},
   "outputs": [],
   "source": [
    "# splitting the data into training and testing set\n",
    "\n",
    "from sklearn.model_selection import train_test_split"
   ]
  },
  {
   "cell_type": "code",
   "execution_count": null,
   "id": "2bb60c5c-426c-4d10-8444-ba8816fb148b",
   "metadata": {},
   "outputs": [],
   "source": [
    "x_train, x_test, y_train, y_test = train_test_split(x, y, test_size = 0.33, random_state = 42)"
   ]
  },
  {
   "cell_type": "code",
   "execution_count": null,
   "id": "cde0dbea-442c-4071-996f-5cd920542da1",
   "metadata": {},
   "outputs": [],
   "source": [
    "print(x_train.shape)\n",
    "print(y_train.shape)\n",
    "print(x_test.shape)\n",
    "print(y_test.shape)"
   ]
  },
  {
   "cell_type": "markdown",
   "id": "aa9cd952-b46a-4c08-b00f-6c8420d697d3",
   "metadata": {},
   "source": [
    "## MODELLING"
   ]
  },
  {
   "cell_type": "markdown",
   "id": "81e975e0-c27b-46dc-bce6-1ecbce52d021",
   "metadata": {},
   "source": [
    "## Xgboost Model"
   ]
  },
  {
   "cell_type": "code",
   "execution_count": null,
   "id": "39a78849-a45c-40ea-80ec-6257570eb07c",
   "metadata": {},
   "outputs": [],
   "source": [
    "from sklearn.ensemble import  GradientBoostingClassifier\n",
    "from sklearn.metrics import accuracy_score,confusion_matrix,classification_report,f1_score"
   ]
  },
  {
   "cell_type": "code",
   "execution_count": null,
   "id": "f7973b3a-6792-42e9-b2e6-cc84d0395935",
   "metadata": {},
   "outputs": [],
   "source": [
    "model = GradientBoostingClassifier() "
   ]
  },
  {
   "cell_type": "code",
   "execution_count": null,
   "id": "e44ea066-8fe9-43c4-a459-56ca7c1e60e0",
   "metadata": {},
   "outputs": [],
   "source": [
    "model.fit(x_train,y_train)"
   ]
  },
  {
   "cell_type": "markdown",
   "id": "6d63c4d5-975e-4ad3-8bc3-6f9ef9f1fb98",
   "metadata": {
    "tags": []
   },
   "source": [
    "## In a Jupyter environment, please rerun this cell to show the HTML representation or trust the notebook.\n",
    "## On GitHub, the HTML representation is unable to render, please try loading this page with nbviewer.org."
   ]
  },
  {
   "cell_type": "code",
   "execution_count": null,
   "id": "ce17109d-bc33-43e8-bf2e-03b4fe6c33dc",
   "metadata": {},
   "outputs": [],
   "source": [
    "yPred = model.predict(x_test)"
   ]
  },
  {
   "cell_type": "code",
   "execution_count": null,
   "id": "e42d8678-7f50-427e-955f-15c8b7a8743c",
   "metadata": {},
   "outputs": [],
   "source": [
    "#confusion matrix\n",
    "print(\"Confusion matrix\")\n",
    "print(confusion_matrix(y_test ,yPred) )\n"
   ]
  },
  {
   "cell_type": "code",
   "execution_count": null,
   "id": "8ee7b9b8-2247-4e52-baa6-4e779d806894",
   "metadata": {},
   "outputs": [],
   "source": []
  }
 ],
 "metadata": {
  "kernelspec": {
   "display_name": "Python 3 (ipykernel)",
   "language": "python",
   "name": "python3"
  },
  "language_info": {
   "codemirror_mode": {
    "name": "ipython",
    "version": 3
   },
   "file_extension": ".py",
   "mimetype": "text/x-python",
   "name": "python",
   "nbconvert_exporter": "python",
   "pygments_lexer": "ipython3",
   "version": "3.9.13"
  }
 },
 "nbformat": 4,
 "nbformat_minor": 5
}
